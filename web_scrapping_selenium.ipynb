{
 "cells": [
  {
   "cell_type": "code",
   "execution_count": 190,
   "metadata": {},
   "outputs": [],
   "source": [
    "from selenium import webdriver\n",
    "from webdriver_manager.chrome import ChromeDriverManager\n",
    "import warnings \n",
    "warnings.filterwarnings(\"ignore\")\n",
    "import json\n",
    "import pandas as pd"
   ]
  },
  {
   "cell_type": "code",
   "execution_count": 191,
   "metadata": {},
   "outputs": [],
   "source": [
    "url = 'https://annapurnapost.com/tags/corona-virus'\n"
   ]
  },
  {
   "cell_type": "code",
   "execution_count": 192,
   "metadata": {},
   "outputs": [
    {
     "name": "stderr",
     "output_type": "stream",
     "text": [
      "\n",
      "\n",
      "====== WebDriver manager ======\n",
      "Could not get version for google-chrome with the command:  powershell \"$ErrorActionPreference='silentlycontinue' ; (Get-Item -Path \"$env:PROGRAMFILES\\Google\\Chrome\\Application\\chrome.exe\").VersionInfo.FileVersion ; if (-not $? -or $? -match $error) { (Get-Item -Path \"$env:PROGRAMFILES(x86)\\Google\\Chrome\\Application\\chrome.exe\").VersionInfo.FileVersion } if (-not $? -or $? -match $error) { (Get-Item -Path \"$env:LOCALAPPDATA\\Google\\Chrome\\Application\\chrome.exe\").VersionInfo.FileVersion } if (-not $? -or $? -match $error) { reg query \"HKCU\\SOFTWARE\\Google\\Chrome\\BLBeacon\" /v version } if (-not $? -or $? -match $error) { reg query \"HKLM\\SOFTWARE\\Wow6432Node\\Microsoft\\Windows\\CurrentVersion\\Uninstall\\Google Chrome\" /v version }\"\n",
      "Current google-chrome version is UNKNOWN\n",
      "Get LATEST chromedriver version for UNKNOWN google-chrome\n",
      "Trying to download new driver from https://chromedriver.storage.googleapis.com/99.0.4844.51/chromedriver_win32.zip\n",
      "Driver has been saved in cache [C:\\Users\\lant\\.wdm\\drivers\\chromedriver\\win32\\99.0.4844.51]\n"
     ]
    }
   ],
   "source": [
    "driver = webdriver.Chrome(ChromeDriverManager().install())\n"
   ]
  },
  {
   "cell_type": "code",
   "execution_count": 193,
   "metadata": {},
   "outputs": [],
   "source": [
    "driver.get(url)"
   ]
  },
  {
   "cell_type": "code",
   "execution_count": 194,
   "metadata": {},
   "outputs": [
    {
     "name": "stdout",
     "output_type": "stream",
     "text": [
      "[<selenium.webdriver.remote.webelement.WebElement (session=\"7bc577a93da995ac7f0848862e755127\", element=\"ba61a013-1801-4541-9d0a-0d7fddeb5f58\")>, <selenium.webdriver.remote.webelement.WebElement (session=\"7bc577a93da995ac7f0848862e755127\", element=\"16a8621e-a4c8-44ba-a783-f5749828376e\")>, <selenium.webdriver.remote.webelement.WebElement (session=\"7bc577a93da995ac7f0848862e755127\", element=\"b3827011-1c4e-4b47-8c74-8ae247206e9b\")>, <selenium.webdriver.remote.webelement.WebElement (session=\"7bc577a93da995ac7f0848862e755127\", element=\"3941340b-e33d-44ec-8d28-f27c12c9d35c\")>, <selenium.webdriver.remote.webelement.WebElement (session=\"7bc577a93da995ac7f0848862e755127\", element=\"d70df4ca-24da-4e62-87c0-3498973bba47\")>, <selenium.webdriver.remote.webelement.WebElement (session=\"7bc577a93da995ac7f0848862e755127\", element=\"bbf73577-12be-4365-af94-9d5531c711bf\")>, <selenium.webdriver.remote.webelement.WebElement (session=\"7bc577a93da995ac7f0848862e755127\", element=\"510295da-1f58-4ff2-946a-de340a00de81\")>, <selenium.webdriver.remote.webelement.WebElement (session=\"7bc577a93da995ac7f0848862e755127\", element=\"bce2d324-0137-40be-9c9f-a9b24d0f15af\")>, <selenium.webdriver.remote.webelement.WebElement (session=\"7bc577a93da995ac7f0848862e755127\", element=\"3daad4ab-fb0d-4494-9dcc-662009ee8982\")>, <selenium.webdriver.remote.webelement.WebElement (session=\"7bc577a93da995ac7f0848862e755127\", element=\"b14111df-a727-4671-be6c-d91245eb0c43\")>, <selenium.webdriver.remote.webelement.WebElement (session=\"7bc577a93da995ac7f0848862e755127\", element=\"09dcaf9d-6922-4bc7-a149-3f474bacc3bb\")>, <selenium.webdriver.remote.webelement.WebElement (session=\"7bc577a93da995ac7f0848862e755127\", element=\"79db220d-0161-46d8-adfc-b9302a72158d\")>, <selenium.webdriver.remote.webelement.WebElement (session=\"7bc577a93da995ac7f0848862e755127\", element=\"db6cc1b9-be02-4b6d-9ee5-49832ba0d21a\")>, <selenium.webdriver.remote.webelement.WebElement (session=\"7bc577a93da995ac7f0848862e755127\", element=\"e424c8b7-13eb-4830-ad07-ed7a99a37b53\")>, <selenium.webdriver.remote.webelement.WebElement (session=\"7bc577a93da995ac7f0848862e755127\", element=\"1dc6cc02-5ba1-4e71-bc58-dcb5dcecfe61\")>, <selenium.webdriver.remote.webelement.WebElement (session=\"7bc577a93da995ac7f0848862e755127\", element=\"c62e97f7-f892-481c-b96e-58c4c95b0836\")>, <selenium.webdriver.remote.webelement.WebElement (session=\"7bc577a93da995ac7f0848862e755127\", element=\"3242f748-e36c-4d6b-8b5f-e46969f44379\")>, <selenium.webdriver.remote.webelement.WebElement (session=\"7bc577a93da995ac7f0848862e755127\", element=\"2fd4e264-677d-4785-bedf-24d22853408e\")>, <selenium.webdriver.remote.webelement.WebElement (session=\"7bc577a93da995ac7f0848862e755127\", element=\"538cef2f-1be7-49b5-b371-808c965a69b7\")>, <selenium.webdriver.remote.webelement.WebElement (session=\"7bc577a93da995ac7f0848862e755127\", element=\"a89deb56-13d1-48fa-924c-7049740ad33d\")>, <selenium.webdriver.remote.webelement.WebElement (session=\"7bc577a93da995ac7f0848862e755127\", element=\"d7aff824-2f07-437e-bb0a-c014c342819b\")>, <selenium.webdriver.remote.webelement.WebElement (session=\"7bc577a93da995ac7f0848862e755127\", element=\"c365cd2f-dfdd-4499-957c-61411ffd5637\")>, <selenium.webdriver.remote.webelement.WebElement (session=\"7bc577a93da995ac7f0848862e755127\", element=\"c1dcef95-9c7a-4294-bb84-e9a376cdd892\")>, <selenium.webdriver.remote.webelement.WebElement (session=\"7bc577a93da995ac7f0848862e755127\", element=\"bb28f0b9-cf0c-43ed-9d39-1c6a2ddbf71a\")>, <selenium.webdriver.remote.webelement.WebElement (session=\"7bc577a93da995ac7f0848862e755127\", element=\"bef7e454-92fc-4cc8-b2ca-c252036b5fda\")>, <selenium.webdriver.remote.webelement.WebElement (session=\"7bc577a93da995ac7f0848862e755127\", element=\"1a00cce4-9448-4b48-be2d-267f916a6e08\")>, <selenium.webdriver.remote.webelement.WebElement (session=\"7bc577a93da995ac7f0848862e755127\", element=\"eb285b18-2ace-4d50-ae0a-8fe62c0e9d72\")>, <selenium.webdriver.remote.webelement.WebElement (session=\"7bc577a93da995ac7f0848862e755127\", element=\"3c14bd3f-bc6e-47f2-b602-a0bfface1d18\")>, <selenium.webdriver.remote.webelement.WebElement (session=\"7bc577a93da995ac7f0848862e755127\", element=\"7a5ac92e-146c-49c8-bebe-dda9ad8a2228\")>, <selenium.webdriver.remote.webelement.WebElement (session=\"7bc577a93da995ac7f0848862e755127\", element=\"4b7eb357-1531-4eff-9db6-8b1051c1bcef\")>, <selenium.webdriver.remote.webelement.WebElement (session=\"7bc577a93da995ac7f0848862e755127\", element=\"79929d85-2a1c-4cdf-b37a-b6434858f121\")>, <selenium.webdriver.remote.webelement.WebElement (session=\"7bc577a93da995ac7f0848862e755127\", element=\"0cc5aec6-e1d1-48ec-a477-1201fd94d450\")>, <selenium.webdriver.remote.webelement.WebElement (session=\"7bc577a93da995ac7f0848862e755127\", element=\"72e33420-3d7e-4bbb-bba4-fbc6913d316b\")>, <selenium.webdriver.remote.webelement.WebElement (session=\"7bc577a93da995ac7f0848862e755127\", element=\"ed1b4325-53d7-42c3-a90e-942508dadf0b\")>, <selenium.webdriver.remote.webelement.WebElement (session=\"7bc577a93da995ac7f0848862e755127\", element=\"506850b3-a65b-4d8d-aa86-ae0c9f28020e\")>, <selenium.webdriver.remote.webelement.WebElement (session=\"7bc577a93da995ac7f0848862e755127\", element=\"5f4021db-82dc-466e-9206-d15010028a6b\")>, <selenium.webdriver.remote.webelement.WebElement (session=\"7bc577a93da995ac7f0848862e755127\", element=\"1891cc69-e0b4-4afa-9d6a-64be5adb513e\")>, <selenium.webdriver.remote.webelement.WebElement (session=\"7bc577a93da995ac7f0848862e755127\", element=\"791909bd-30c1-4614-8a4c-83793801122a\")>, <selenium.webdriver.remote.webelement.WebElement (session=\"7bc577a93da995ac7f0848862e755127\", element=\"bf13a8aa-5c71-4e1b-a74d-fe06357bc137\")>, <selenium.webdriver.remote.webelement.WebElement (session=\"7bc577a93da995ac7f0848862e755127\", element=\"9a1b0e4c-ecec-4c83-aa3d-d9dbf21b91f9\")>, <selenium.webdriver.remote.webelement.WebElement (session=\"7bc577a93da995ac7f0848862e755127\", element=\"2df06b9a-3298-4776-b169-1ea1f8613c7a\")>, <selenium.webdriver.remote.webelement.WebElement (session=\"7bc577a93da995ac7f0848862e755127\", element=\"71f0fc55-873a-4304-bd11-9d02a35eed1c\")>, <selenium.webdriver.remote.webelement.WebElement (session=\"7bc577a93da995ac7f0848862e755127\", element=\"7b8cb74c-18df-49d4-8c3c-41c670bb49ee\")>, <selenium.webdriver.remote.webelement.WebElement (session=\"7bc577a93da995ac7f0848862e755127\", element=\"38706ab4-f652-47ee-adf6-3b59d29d909c\")>, <selenium.webdriver.remote.webelement.WebElement (session=\"7bc577a93da995ac7f0848862e755127\", element=\"ae5a5217-d61f-4aa2-b29e-7a65679a6031\")>, <selenium.webdriver.remote.webelement.WebElement (session=\"7bc577a93da995ac7f0848862e755127\", element=\"e34c6bfa-6f1d-4302-8ef7-9c6a60550908\")>, <selenium.webdriver.remote.webelement.WebElement (session=\"7bc577a93da995ac7f0848862e755127\", element=\"8f7d08a7-149f-4d5f-880f-59b8f1920d4b\")>, <selenium.webdriver.remote.webelement.WebElement (session=\"7bc577a93da995ac7f0848862e755127\", element=\"168d343b-5a93-4fdb-9234-b19f2890e814\")>, <selenium.webdriver.remote.webelement.WebElement (session=\"7bc577a93da995ac7f0848862e755127\", element=\"a5333f96-caa1-4073-b828-5b044ca9987b\")>, <selenium.webdriver.remote.webelement.WebElement (session=\"7bc577a93da995ac7f0848862e755127\", element=\"fecdd91b-5d5d-4532-8312-3ec383446104\")>, <selenium.webdriver.remote.webelement.WebElement (session=\"7bc577a93da995ac7f0848862e755127\", element=\"b1d0f04d-423b-412f-8cc9-f1cffc636204\")>, <selenium.webdriver.remote.webelement.WebElement (session=\"7bc577a93da995ac7f0848862e755127\", element=\"cc9faae5-be3d-448a-9493-3ae8d2a20298\")>, <selenium.webdriver.remote.webelement.WebElement (session=\"7bc577a93da995ac7f0848862e755127\", element=\"45fcce15-bfb9-4365-9e0a-e81e605a6dfc\")>, <selenium.webdriver.remote.webelement.WebElement (session=\"7bc577a93da995ac7f0848862e755127\", element=\"ad09194c-ef56-45f6-82db-7d046342284b\")>, <selenium.webdriver.remote.webelement.WebElement (session=\"7bc577a93da995ac7f0848862e755127\", element=\"83851746-aa08-4aff-9d8e-3810214628bc\")>, <selenium.webdriver.remote.webelement.WebElement (session=\"7bc577a93da995ac7f0848862e755127\", element=\"4fa34c5c-d091-4853-a712-03efa15d1677\")>, <selenium.webdriver.remote.webelement.WebElement (session=\"7bc577a93da995ac7f0848862e755127\", element=\"0ddc970a-6533-493f-89c3-b280f69cbd81\")>, <selenium.webdriver.remote.webelement.WebElement (session=\"7bc577a93da995ac7f0848862e755127\", element=\"fc492d77-3db9-4668-bd17-d8c837b6e78c\")>, <selenium.webdriver.remote.webelement.WebElement (session=\"7bc577a93da995ac7f0848862e755127\", element=\"9fc98c6d-31e9-4f4b-9cb1-e64b38dc53c4\")>, <selenium.webdriver.remote.webelement.WebElement (session=\"7bc577a93da995ac7f0848862e755127\", element=\"b9b444b4-9c18-4730-84e8-ef4e1932cd3e\")>, <selenium.webdriver.remote.webelement.WebElement (session=\"7bc577a93da995ac7f0848862e755127\", element=\"9d50f3d0-5434-48a7-a725-3cc623fc3c87\")>, <selenium.webdriver.remote.webelement.WebElement (session=\"7bc577a93da995ac7f0848862e755127\", element=\"7edff88f-19de-460e-88dc-684d100e9511\")>, <selenium.webdriver.remote.webelement.WebElement (session=\"7bc577a93da995ac7f0848862e755127\", element=\"f544f79b-319e-416b-9d8e-230658ce6baa\")>, <selenium.webdriver.remote.webelement.WebElement (session=\"7bc577a93da995ac7f0848862e755127\", element=\"11361a35-aaac-4794-ae5a-7816c4a931bf\")>, <selenium.webdriver.remote.webelement.WebElement (session=\"7bc577a93da995ac7f0848862e755127\", element=\"0fde98f6-80fa-4fbe-a320-486827772ce1\")>, <selenium.webdriver.remote.webelement.WebElement (session=\"7bc577a93da995ac7f0848862e755127\", element=\"5a0d5a2a-8cac-4334-b2f2-14c6c289dafe\")>, <selenium.webdriver.remote.webelement.WebElement (session=\"7bc577a93da995ac7f0848862e755127\", element=\"3910e970-4df6-4409-a9dd-580d15e2010f\")>, <selenium.webdriver.remote.webelement.WebElement (session=\"7bc577a93da995ac7f0848862e755127\", element=\"d554cb32-f273-4783-9f41-7c16d0b3fd69\")>, <selenium.webdriver.remote.webelement.WebElement (session=\"7bc577a93da995ac7f0848862e755127\", element=\"51be205f-d050-489e-85d2-7aecfbc50b03\")>, <selenium.webdriver.remote.webelement.WebElement (session=\"7bc577a93da995ac7f0848862e755127\", element=\"c04624b6-4925-4d87-b5e9-3acc3c47d7c5\")>, <selenium.webdriver.remote.webelement.WebElement (session=\"7bc577a93da995ac7f0848862e755127\", element=\"b8683512-2550-4ac8-89d9-cc65424e2e37\")>, <selenium.webdriver.remote.webelement.WebElement (session=\"7bc577a93da995ac7f0848862e755127\", element=\"8470ccd3-537b-43da-a873-e25744d12f25\")>, <selenium.webdriver.remote.webelement.WebElement (session=\"7bc577a93da995ac7f0848862e755127\", element=\"75def3eb-e6ef-4bcd-8636-66a21c9d74ed\")>, <selenium.webdriver.remote.webelement.WebElement (session=\"7bc577a93da995ac7f0848862e755127\", element=\"8cc53139-331d-46cd-b164-52c56e5710bf\")>, <selenium.webdriver.remote.webelement.WebElement (session=\"7bc577a93da995ac7f0848862e755127\", element=\"f1c8f6a5-370a-4b64-b5f6-44f11076042d\")>, <selenium.webdriver.remote.webelement.WebElement (session=\"7bc577a93da995ac7f0848862e755127\", element=\"4666de44-0c66-4a8f-9d55-45452c47e525\")>, <selenium.webdriver.remote.webelement.WebElement (session=\"7bc577a93da995ac7f0848862e755127\", element=\"05a4bb99-e0e2-4bf2-9c47-9de11eba9f67\")>, <selenium.webdriver.remote.webelement.WebElement (session=\"7bc577a93da995ac7f0848862e755127\", element=\"d985c9ff-b601-402d-a274-3eb3adf9b3fc\")>, <selenium.webdriver.remote.webelement.WebElement (session=\"7bc577a93da995ac7f0848862e755127\", element=\"5432b387-8d03-484b-947c-87e2f7fba331\")>, <selenium.webdriver.remote.webelement.WebElement (session=\"7bc577a93da995ac7f0848862e755127\", element=\"123cd3ff-6fa5-4c61-8836-e80ae58cdc96\")>]\n"
     ]
    }
   ],
   "source": [
    "articles = driver.find_elements_by_class_name(\"single-category\")\n",
    "print(articles)\n"
   ]
  },
  {
   "cell_type": "code",
   "execution_count": 195,
   "metadata": {},
   "outputs": [],
   "source": [
    "article_list = []\n",
    "for article in articles:\n",
    "    title = article.find_element_by_class_name('single-category-text')\n",
    "    art = {\n",
    "        'article':title.text\n",
    "    }\n",
    "    article_list.append(art)\n",
    "    "
   ]
  },
  {
   "cell_type": "code",
   "execution_count": 203,
   "metadata": {},
   "outputs": [
    {
     "name": "stdout",
     "output_type": "stream",
     "text": [
      "80\n"
     ]
    }
   ],
   "source": [
    "print(article_list)\n"
   ]
  },
  {
   "cell_type": "code",
   "execution_count": 197,
   "metadata": {},
   "outputs": [],
   "source": [
    "df = pd.DataFrame(article_list)"
   ]
  },
  {
   "cell_type": "code",
   "execution_count": 199,
   "metadata": {},
   "outputs": [
    {
     "data": {
      "text/html": [
       "<div>\n",
       "<style scoped>\n",
       "    .dataframe tbody tr th:only-of-type {\n",
       "        vertical-align: middle;\n",
       "    }\n",
       "\n",
       "    .dataframe tbody tr th {\n",
       "        vertical-align: top;\n",
       "    }\n",
       "\n",
       "    .dataframe thead th {\n",
       "        text-align: right;\n",
       "    }\n",
       "</style>\n",
       "<table border=\"1\" class=\"dataframe\">\n",
       "  <thead>\n",
       "    <tr style=\"text-align: right;\">\n",
       "      <th></th>\n",
       "      <th>article</th>\n",
       "    </tr>\n",
       "  </thead>\n",
       "  <tbody>\n",
       "    <tr>\n",
       "      <th>0</th>\n",
       "      <td>फ्रान्स र अमेरिकामा देखियो कोरोनाको नयाँ भेरिय...</td>\n",
       "    </tr>\n",
       "    <tr>\n",
       "      <th>1</th>\n",
       "      <td>पर्यटन उकास्न छुट प्याकेज\\n२५ फागुन २०७८</td>\n",
       "    </tr>\n",
       "    <tr>\n",
       "      <th>2</th>\n",
       "      <td>थप १९४ जनामा कोरोना संक्रमण, एक संक्रमितको मृत...</td>\n",
       "    </tr>\n",
       "    <tr>\n",
       "      <th>3</th>\n",
       "      <td>दुई वर्षपछि पशुपतिमा शिवरात्रिको रौनक\\n१७ फागु...</td>\n",
       "    </tr>\n",
       "    <tr>\n",
       "      <th>4</th>\n",
       "      <td>थप २७५ जनामा कोरोना संक्रमण, एकको मृत्यु\\nबागम...</td>\n",
       "    </tr>\n",
       "    <tr>\n",
       "      <th>...</th>\n",
       "      <td>...</td>\n",
       "    </tr>\n",
       "    <tr>\n",
       "      <th>75</th>\n",
       "      <td>करिब २१ हजारको नमूना परीक्षण गर्दा ३८२ जनामा क...</td>\n",
       "    </tr>\n",
       "    <tr>\n",
       "      <th>76</th>\n",
       "      <td>साउदीमा कोरोना भाइरस बढ्दो, नियम उल्लंघन गर्ने...</td>\n",
       "    </tr>\n",
       "    <tr>\n",
       "      <th>77</th>\n",
       "      <td>नेपालमा थप २४१ जनामा कोरोना संक्रमण\\n१५ पुष २०७८</td>\n",
       "    </tr>\n",
       "    <tr>\n",
       "      <th>78</th>\n",
       "      <td>अर्जुन कपुरलाई कोरोना संक्रमण, तनावमा मलाइका\\n...</td>\n",
       "    </tr>\n",
       "    <tr>\n",
       "      <th>79</th>\n",
       "      <td>दिल्लीमा १५ दिनमा १० गुणा कोरोना संक्रमित बढे,...</td>\n",
       "    </tr>\n",
       "  </tbody>\n",
       "</table>\n",
       "<p>80 rows × 1 columns</p>\n",
       "</div>"
      ],
      "text/plain": [
       "                                              article\n",
       "0   फ्रान्स र अमेरिकामा देखियो कोरोनाको नयाँ भेरिय...\n",
       "1            पर्यटन उकास्न छुट प्याकेज\\n२५ फागुन २०७८\n",
       "2   थप १९४ जनामा कोरोना संक्रमण, एक संक्रमितको मृत...\n",
       "3   दुई वर्षपछि पशुपतिमा शिवरात्रिको रौनक\\n१७ फागु...\n",
       "4   थप २७५ जनामा कोरोना संक्रमण, एकको मृत्यु\\nबागम...\n",
       "..                                                ...\n",
       "75  करिब २१ हजारको नमूना परीक्षण गर्दा ३८२ जनामा क...\n",
       "76  साउदीमा कोरोना भाइरस बढ्दो, नियम उल्लंघन गर्ने...\n",
       "77   नेपालमा थप २४१ जनामा कोरोना संक्रमण\\n१५ पुष २०७८\n",
       "78  अर्जुन कपुरलाई कोरोना संक्रमण, तनावमा मलाइका\\n...\n",
       "79  दिल्लीमा १५ दिनमा १० गुणा कोरोना संक्रमित बढे,...\n",
       "\n",
       "[80 rows x 1 columns]"
      ]
     },
     "execution_count": 199,
     "metadata": {},
     "output_type": "execute_result"
    }
   ],
   "source": [
    "df"
   ]
  },
  {
   "cell_type": "code",
   "execution_count": 200,
   "metadata": {},
   "outputs": [],
   "source": [
    "df = df.head(30)"
   ]
  },
  {
   "cell_type": "code",
   "execution_count": 201,
   "metadata": {},
   "outputs": [
    {
     "data": {
      "text/plain": [
       "(30, 1)"
      ]
     },
     "execution_count": 201,
     "metadata": {},
     "output_type": "execute_result"
    }
   ],
   "source": [
    "df.shape"
   ]
  },
  {
   "cell_type": "code",
   "execution_count": 202,
   "metadata": {},
   "outputs": [],
   "source": [
    "df.to_json('article.json')"
   ]
  },
  {
   "cell_type": "code",
   "execution_count": null,
   "metadata": {},
   "outputs": [],
   "source": []
  },
  {
   "cell_type": "code",
   "execution_count": null,
   "metadata": {},
   "outputs": [],
   "source": []
  },
  {
   "cell_type": "code",
   "execution_count": null,
   "metadata": {},
   "outputs": [],
   "source": []
  }
 ],
 "metadata": {
  "kernelspec": {
   "display_name": "Python 3",
   "language": "python",
   "name": "python3"
  },
  "language_info": {
   "codemirror_mode": {
    "name": "ipython",
    "version": 3
   },
   "file_extension": ".py",
   "mimetype": "text/x-python",
   "name": "python",
   "nbconvert_exporter": "python",
   "pygments_lexer": "ipython3",
   "version": "3.7.4"
  }
 },
 "nbformat": 4,
 "nbformat_minor": 4
}
